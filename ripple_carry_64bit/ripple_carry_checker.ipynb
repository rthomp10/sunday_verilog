{
 "cells": [
  {
   "cell_type": "code",
   "execution_count": 3,
   "metadata": {},
   "outputs": [],
   "source": [
    "import numpy as np\n",
    "import pandas as pd"
   ]
  },
  {
   "cell_type": "code",
   "execution_count": 4,
   "metadata": {},
   "outputs": [
    {
     "output_type": "execute_result",
     "data": {
      "text/plain": "                      a                     b\n0   5599221927511852972  -9073391711843153140\n1    125843118319673708  -7029686126400350234\n2  -6626586882120967886   3892734086233570300\n3  -7567988178298816346  -7189453062790077394\n4    592745535363237000  -4295411505309829984",
      "text/html": "<div>\n<style scoped>\n    .dataframe tbody tr th:only-of-type {\n        vertical-align: middle;\n    }\n\n    .dataframe tbody tr th {\n        vertical-align: top;\n    }\n\n    .dataframe thead th {\n        text-align: right;\n    }\n</style>\n<table border=\"1\" class=\"dataframe\">\n  <thead>\n    <tr style=\"text-align: right;\">\n      <th></th>\n      <th>a</th>\n      <th>b</th>\n    </tr>\n  </thead>\n  <tbody>\n    <tr>\n      <td>0</td>\n      <td>5599221927511852972</td>\n      <td>-9073391711843153140</td>\n    </tr>\n    <tr>\n      <td>1</td>\n      <td>125843118319673708</td>\n      <td>-7029686126400350234</td>\n    </tr>\n    <tr>\n      <td>2</td>\n      <td>-6626586882120967886</td>\n      <td>3892734086233570300</td>\n    </tr>\n    <tr>\n      <td>3</td>\n      <td>-7567988178298816346</td>\n      <td>-7189453062790077394</td>\n    </tr>\n    <tr>\n      <td>4</td>\n      <td>592745535363237000</td>\n      <td>-4295411505309829984</td>\n    </tr>\n  </tbody>\n</table>\n</div>"
     },
     "metadata": {},
     "execution_count": 4
    }
   ],
   "source": [
    "input_types = {'a': 'Int64', \n",
    "               'b': 'Int64'}\n",
    "test_vector = pd.read_csv(\"test_vector.csv\", dtype=input_types )\n",
    "test_vector.head()"
   ]
  },
  {
   "cell_type": "code",
   "execution_count": 5,
   "metadata": {},
   "outputs": [
    {
     "output_type": "execute_result",
     "data": {
      "text/plain": "                      a                     b                   sum\n0   5599221927511852972  -9073391711843153140  -3474169784331300168\n1    125843118319673708  -7029686126400350234  -6903843008080676526\n2  -6626586882120967886   3892734086233570300  -2733852795887397586\n3  -7567988178298816346  -7189453062790077394   3689302832620657876\n4    592745535363237000  -4295411505309829984  -3702665969946592984",
      "text/html": "<div>\n<style scoped>\n    .dataframe tbody tr th:only-of-type {\n        vertical-align: middle;\n    }\n\n    .dataframe tbody tr th {\n        vertical-align: top;\n    }\n\n    .dataframe thead th {\n        text-align: right;\n    }\n</style>\n<table border=\"1\" class=\"dataframe\">\n  <thead>\n    <tr style=\"text-align: right;\">\n      <th></th>\n      <th>a</th>\n      <th>b</th>\n      <th>sum</th>\n    </tr>\n  </thead>\n  <tbody>\n    <tr>\n      <td>0</td>\n      <td>5599221927511852972</td>\n      <td>-9073391711843153140</td>\n      <td>-3474169784331300168</td>\n    </tr>\n    <tr>\n      <td>1</td>\n      <td>125843118319673708</td>\n      <td>-7029686126400350234</td>\n      <td>-6903843008080676526</td>\n    </tr>\n    <tr>\n      <td>2</td>\n      <td>-6626586882120967886</td>\n      <td>3892734086233570300</td>\n      <td>-2733852795887397586</td>\n    </tr>\n    <tr>\n      <td>3</td>\n      <td>-7567988178298816346</td>\n      <td>-7189453062790077394</td>\n      <td>3689302832620657876</td>\n    </tr>\n    <tr>\n      <td>4</td>\n      <td>592745535363237000</td>\n      <td>-4295411505309829984</td>\n      <td>-3702665969946592984</td>\n    </tr>\n  </tbody>\n</table>\n</div>"
     },
     "metadata": {},
     "execution_count": 5
    }
   ],
   "source": [
    "test_vector['sum'] = test_vector['a'] + test_vector['b']\n",
    "test_vector.head()"
   ]
  },
  {
   "cell_type": "code",
   "execution_count": 8,
   "metadata": {},
   "outputs": [
    {
     "output_type": "execute_result",
     "data": {
      "text/plain": "                      a                     b                  sum  carry\n0   5599221927511852972  -9073391711843153140 -3474169784331300168      0\n1    125843118319673708  -7029686126400350234 -6903843008080676526      0\n2  -6626586882120967886   3892734086233570300 -2733852795887397586      0\n3  -7567988178298816346  -7189453062790077394  3689302832620657876      1\n4    592745535363237000  -4295411505309829984 -3702665969946592984      0",
      "text/html": "<div>\n<style scoped>\n    .dataframe tbody tr th:only-of-type {\n        vertical-align: middle;\n    }\n\n    .dataframe tbody tr th {\n        vertical-align: top;\n    }\n\n    .dataframe thead th {\n        text-align: right;\n    }\n</style>\n<table border=\"1\" class=\"dataframe\">\n  <thead>\n    <tr style=\"text-align: right;\">\n      <th></th>\n      <th>a</th>\n      <th>b</th>\n      <th>sum</th>\n      <th>carry</th>\n    </tr>\n  </thead>\n  <tbody>\n    <tr>\n      <td>0</td>\n      <td>5599221927511852972</td>\n      <td>-9073391711843153140</td>\n      <td>-3474169784331300168</td>\n      <td>0</td>\n    </tr>\n    <tr>\n      <td>1</td>\n      <td>125843118319673708</td>\n      <td>-7029686126400350234</td>\n      <td>-6903843008080676526</td>\n      <td>0</td>\n    </tr>\n    <tr>\n      <td>2</td>\n      <td>-6626586882120967886</td>\n      <td>3892734086233570300</td>\n      <td>-2733852795887397586</td>\n      <td>0</td>\n    </tr>\n    <tr>\n      <td>3</td>\n      <td>-7567988178298816346</td>\n      <td>-7189453062790077394</td>\n      <td>3689302832620657876</td>\n      <td>1</td>\n    </tr>\n    <tr>\n      <td>4</td>\n      <td>592745535363237000</td>\n      <td>-4295411505309829984</td>\n      <td>-3702665969946592984</td>\n      <td>0</td>\n    </tr>\n  </tbody>\n</table>\n</div>"
     },
     "metadata": {},
     "execution_count": 8
    }
   ],
   "source": [
    "input_types = {'a': 'Int64', \n",
    "               'b': 'Int64'}\n",
    "results = pd.read_csv(\"results.csv\", dtype=input_types )\n",
    "results.head()"
   ]
  },
  {
   "cell_type": "code",
   "execution_count": 26,
   "metadata": {},
   "outputs": [
    {
     "output_type": "stream",
     "name": "stdout",
     "text": "716 incorrect results\n"
    },
    {
     "output_type": "execute_result",
     "data": {
      "text/plain": "                    DUT              Expected\n5   5381969316819484562   5381969316819484561\n6  -1403190967031704508  -1403190967031704509\n7   1129074143313393758   1129074143313393757\n8   5475936417452447856   5475936417452447855\n10  1836525061174867288   1836525061174867287",
      "text/html": "<div>\n<style scoped>\n    .dataframe tbody tr th:only-of-type {\n        vertical-align: middle;\n    }\n\n    .dataframe tbody tr th {\n        vertical-align: top;\n    }\n\n    .dataframe thead th {\n        text-align: right;\n    }\n</style>\n<table border=\"1\" class=\"dataframe\">\n  <thead>\n    <tr style=\"text-align: right;\">\n      <th></th>\n      <th>DUT</th>\n      <th>Expected</th>\n    </tr>\n  </thead>\n  <tbody>\n    <tr>\n      <td>5</td>\n      <td>5381969316819484562</td>\n      <td>5381969316819484561</td>\n    </tr>\n    <tr>\n      <td>6</td>\n      <td>-1403190967031704508</td>\n      <td>-1403190967031704509</td>\n    </tr>\n    <tr>\n      <td>7</td>\n      <td>1129074143313393758</td>\n      <td>1129074143313393757</td>\n    </tr>\n    <tr>\n      <td>8</td>\n      <td>5475936417452447856</td>\n      <td>5475936417452447855</td>\n    </tr>\n    <tr>\n      <td>10</td>\n      <td>1836525061174867288</td>\n      <td>1836525061174867287</td>\n    </tr>\n  </tbody>\n</table>\n</div>"
     },
     "metadata": {},
     "execution_count": 26
    }
   ],
   "source": [
    "num_wrong_outputs = str(results[results['sum'] != test_vector['sum']] ['sum'].count())\n",
    "print(num_wrong_outputs + ' incorrect results')\n",
    "result_comparison = pd.DataFrame({'DUT': results['sum'],\n",
    "                                 'Expected': test_vector['sum']})\n",
    "result_comparison[results['sum'] != test_vector['sum']].head()"
   ]
  }
 ],
 "metadata": {
  "language_info": {
   "codemirror_mode": {
    "name": "ipython",
    "version": 3
   },
   "file_extension": ".py",
   "mimetype": "text/x-python",
   "name": "python",
   "nbconvert_exporter": "python",
   "pygments_lexer": "ipython3",
   "version": "3.7.4-final"
  },
  "orig_nbformat": 2,
  "kernelspec": {
   "name": "python37464bitcd447ffdbf1f4d06aa29387af87e1b7f",
   "display_name": "Python 3.7.4 64-bit"
  }
 },
 "nbformat": 4,
 "nbformat_minor": 2
}