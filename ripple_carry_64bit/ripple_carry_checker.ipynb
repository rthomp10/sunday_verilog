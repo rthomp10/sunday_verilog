{
 "cells": [
  {
   "cell_type": "code",
   "execution_count": 2,
   "metadata": {},
   "outputs": [],
   "source": [
    "import numpy as np\n",
    "import pandas as pd"
   ]
  },
  {
   "cell_type": "code",
   "execution_count": 30,
   "metadata": {},
   "outputs": [
    {
     "output_type": "display_data",
     "data": {
      "text/plain": "                        a                     b                   sum\n0     5599221927511852972  -9073391711843153140  -3474169784331300168\n1      125843118319673708  -7029686126400350234  -6903843008080676526\n2    -6626586882120967886   3892734086233570300  -2733852795887397586\n3    -7567988178298816346  -7189453062790077394   3689302832620657876\n4      592745535363237000  -4295411505309829984  -3702665969946592984\n..                    ...                   ...                   ...\n995   6246496182906832627  -1714752736666615777   4531743446240216850\n996    258363907008850362  -5343067923881493991  -5084704016872643629\n997  -2755054595179788025    669963914226713103  -2085090680953074922\n998  -3220237911566750251   1530680250441555107  -1689557661125195144\n999   2618243538736035941   1441111373721703936   4059354912457739877\n\n[1000 rows x 3 columns]",
      "text/html": "<div>\n<style scoped>\n    .dataframe tbody tr th:only-of-type {\n        vertical-align: middle;\n    }\n\n    .dataframe tbody tr th {\n        vertical-align: top;\n    }\n\n    .dataframe thead th {\n        text-align: right;\n    }\n</style>\n<table border=\"1\" class=\"dataframe\">\n  <thead>\n    <tr style=\"text-align: right;\">\n      <th></th>\n      <th>a</th>\n      <th>b</th>\n      <th>sum</th>\n    </tr>\n  </thead>\n  <tbody>\n    <tr>\n      <td>0</td>\n      <td>5599221927511852972</td>\n      <td>-9073391711843153140</td>\n      <td>-3474169784331300168</td>\n    </tr>\n    <tr>\n      <td>1</td>\n      <td>125843118319673708</td>\n      <td>-7029686126400350234</td>\n      <td>-6903843008080676526</td>\n    </tr>\n    <tr>\n      <td>2</td>\n      <td>-6626586882120967886</td>\n      <td>3892734086233570300</td>\n      <td>-2733852795887397586</td>\n    </tr>\n    <tr>\n      <td>3</td>\n      <td>-7567988178298816346</td>\n      <td>-7189453062790077394</td>\n      <td>3689302832620657876</td>\n    </tr>\n    <tr>\n      <td>4</td>\n      <td>592745535363237000</td>\n      <td>-4295411505309829984</td>\n      <td>-3702665969946592984</td>\n    </tr>\n    <tr>\n      <td>...</td>\n      <td>...</td>\n      <td>...</td>\n      <td>...</td>\n    </tr>\n    <tr>\n      <td>995</td>\n      <td>6246496182906832627</td>\n      <td>-1714752736666615777</td>\n      <td>4531743446240216850</td>\n    </tr>\n    <tr>\n      <td>996</td>\n      <td>258363907008850362</td>\n      <td>-5343067923881493991</td>\n      <td>-5084704016872643629</td>\n    </tr>\n    <tr>\n      <td>997</td>\n      <td>-2755054595179788025</td>\n      <td>669963914226713103</td>\n      <td>-2085090680953074922</td>\n    </tr>\n    <tr>\n      <td>998</td>\n      <td>-3220237911566750251</td>\n      <td>1530680250441555107</td>\n      <td>-1689557661125195144</td>\n    </tr>\n    <tr>\n      <td>999</td>\n      <td>2618243538736035941</td>\n      <td>1441111373721703936</td>\n      <td>4059354912457739877</td>\n    </tr>\n  </tbody>\n</table>\n<p>1000 rows × 3 columns</p>\n</div>"
     },
     "metadata": {}
    }
   ],
   "source": [
    "input_types = {'a': 'Int64', \n",
    "               'b': 'Int64'}\n",
    "test_vector = pd.read_csv(\"test_vector.csv\", dtype=input_types )\n",
    "test_vector['sum'] = test_vector['a'] + test_vector['b']\n",
    "display(test_vector)"
   ]
  },
  {
   "cell_type": "code",
   "execution_count": 5,
   "metadata": {},
   "outputs": [
    {
     "output_type": "execute_result",
     "data": {
      "text/plain": "                      a                     b                  sum  carry\n0   5599221927511852972  -9073391711843153140 -3474169784331300168      0\n1    125843118319673708  -7029686126400350234 -6903843008080676526      0\n2  -6626586882120967886   3892734086233570300 -2733852795887397586      0\n3  -7567988178298816346  -7189453062790077394  3689302832620657876      1\n4    592745535363237000  -4295411505309829984 -3702665969946592984      0",
      "text/html": "<div>\n<style scoped>\n    .dataframe tbody tr th:only-of-type {\n        vertical-align: middle;\n    }\n\n    .dataframe tbody tr th {\n        vertical-align: top;\n    }\n\n    .dataframe thead th {\n        text-align: right;\n    }\n</style>\n<table border=\"1\" class=\"dataframe\">\n  <thead>\n    <tr style=\"text-align: right;\">\n      <th></th>\n      <th>a</th>\n      <th>b</th>\n      <th>sum</th>\n      <th>carry</th>\n    </tr>\n  </thead>\n  <tbody>\n    <tr>\n      <td>0</td>\n      <td>5599221927511852972</td>\n      <td>-9073391711843153140</td>\n      <td>-3474169784331300168</td>\n      <td>0</td>\n    </tr>\n    <tr>\n      <td>1</td>\n      <td>125843118319673708</td>\n      <td>-7029686126400350234</td>\n      <td>-6903843008080676526</td>\n      <td>0</td>\n    </tr>\n    <tr>\n      <td>2</td>\n      <td>-6626586882120967886</td>\n      <td>3892734086233570300</td>\n      <td>-2733852795887397586</td>\n      <td>0</td>\n    </tr>\n    <tr>\n      <td>3</td>\n      <td>-7567988178298816346</td>\n      <td>-7189453062790077394</td>\n      <td>3689302832620657876</td>\n      <td>1</td>\n    </tr>\n    <tr>\n      <td>4</td>\n      <td>592745535363237000</td>\n      <td>-4295411505309829984</td>\n      <td>-3702665969946592984</td>\n      <td>0</td>\n    </tr>\n  </tbody>\n</table>\n</div>"
     },
     "metadata": {},
     "execution_count": 5
    }
   ],
   "source": [
    "# Gathering the results\n",
    "input_types = {'a': 'Int64', \n",
    "               'b': 'Int64'}\n",
    "results = pd.read_csv(\"results.csv\", dtype=input_types )\n",
    "results.head()"
   ]
  },
  {
   "cell_type": "code",
   "execution_count": 33,
   "metadata": {},
   "outputs": [
    {
     "output_type": "stream",
     "name": "stdout",
     "text": "716 incorrect results out of 1000\n"
    },
    {
     "output_type": "display_data",
     "data": {
      "text/plain": "                        a                     b                  sum  carry\n5     6778898353225019333  -1396929036405534772  5381969316819484562      1\n6      290312938777992501  -1693503905809697010 -1403190967031704508      0\n7     8575157146419222516  -7446083003105828759  1129074143313393758      1\n8     7805619934991066976  -2329683517538619121  5475936417452447856      1\n10   -8384498550222719207  -8225720462311965122  1836525061174867288      1\n..                    ...                   ...                  ...    ...\n995   6246496182906832627  -1714752736666615777  4531743446240216849      1\n996    258363907008850362  -5343067923881493991 -5084704016872643628      0\n997  -2755054595179788025    669963914226713103 -2085090680953074923      0\n998  -3220237911566750251   1530680250441555107 -1689557661125195145      0\n999   2618243538736035941   1441111373721703936  4059354912457739878      0\n\n[716 rows x 4 columns]",
      "text/html": "<div>\n<style scoped>\n    .dataframe tbody tr th:only-of-type {\n        vertical-align: middle;\n    }\n\n    .dataframe tbody tr th {\n        vertical-align: top;\n    }\n\n    .dataframe thead th {\n        text-align: right;\n    }\n</style>\n<table border=\"1\" class=\"dataframe\">\n  <thead>\n    <tr style=\"text-align: right;\">\n      <th></th>\n      <th>a</th>\n      <th>b</th>\n      <th>sum</th>\n      <th>carry</th>\n    </tr>\n  </thead>\n  <tbody>\n    <tr>\n      <td>5</td>\n      <td>6778898353225019333</td>\n      <td>-1396929036405534772</td>\n      <td>5381969316819484562</td>\n      <td>1</td>\n    </tr>\n    <tr>\n      <td>6</td>\n      <td>290312938777992501</td>\n      <td>-1693503905809697010</td>\n      <td>-1403190967031704508</td>\n      <td>0</td>\n    </tr>\n    <tr>\n      <td>7</td>\n      <td>8575157146419222516</td>\n      <td>-7446083003105828759</td>\n      <td>1129074143313393758</td>\n      <td>1</td>\n    </tr>\n    <tr>\n      <td>8</td>\n      <td>7805619934991066976</td>\n      <td>-2329683517538619121</td>\n      <td>5475936417452447856</td>\n      <td>1</td>\n    </tr>\n    <tr>\n      <td>10</td>\n      <td>-8384498550222719207</td>\n      <td>-8225720462311965122</td>\n      <td>1836525061174867288</td>\n      <td>1</td>\n    </tr>\n    <tr>\n      <td>...</td>\n      <td>...</td>\n      <td>...</td>\n      <td>...</td>\n      <td>...</td>\n    </tr>\n    <tr>\n      <td>995</td>\n      <td>6246496182906832627</td>\n      <td>-1714752736666615777</td>\n      <td>4531743446240216849</td>\n      <td>1</td>\n    </tr>\n    <tr>\n      <td>996</td>\n      <td>258363907008850362</td>\n      <td>-5343067923881493991</td>\n      <td>-5084704016872643628</td>\n      <td>0</td>\n    </tr>\n    <tr>\n      <td>997</td>\n      <td>-2755054595179788025</td>\n      <td>669963914226713103</td>\n      <td>-2085090680953074923</td>\n      <td>0</td>\n    </tr>\n    <tr>\n      <td>998</td>\n      <td>-3220237911566750251</td>\n      <td>1530680250441555107</td>\n      <td>-1689557661125195145</td>\n      <td>0</td>\n    </tr>\n    <tr>\n      <td>999</td>\n      <td>2618243538736035941</td>\n      <td>1441111373721703936</td>\n      <td>4059354912457739878</td>\n      <td>0</td>\n    </tr>\n  </tbody>\n</table>\n<p>716 rows × 4 columns</p>\n</div>"
     },
     "metadata": {}
    },
    {
     "output_type": "display_data",
     "data": {
      "text/plain": "                    DUT              Expected  Delta\n5   5381969316819484562   5381969316819484561      1\n6  -1403190967031704508  -1403190967031704509      1\n7   1129074143313393758   1129074143313393757      1\n8   5475936417452447856   5475936417452447855      1\n10  1836525061174867288   1836525061174867287      1",
      "text/html": "<div>\n<style scoped>\n    .dataframe tbody tr th:only-of-type {\n        vertical-align: middle;\n    }\n\n    .dataframe tbody tr th {\n        vertical-align: top;\n    }\n\n    .dataframe thead th {\n        text-align: right;\n    }\n</style>\n<table border=\"1\" class=\"dataframe\">\n  <thead>\n    <tr style=\"text-align: right;\">\n      <th></th>\n      <th>DUT</th>\n      <th>Expected</th>\n      <th>Delta</th>\n    </tr>\n  </thead>\n  <tbody>\n    <tr>\n      <td>5</td>\n      <td>5381969316819484562</td>\n      <td>5381969316819484561</td>\n      <td>1</td>\n    </tr>\n    <tr>\n      <td>6</td>\n      <td>-1403190967031704508</td>\n      <td>-1403190967031704509</td>\n      <td>1</td>\n    </tr>\n    <tr>\n      <td>7</td>\n      <td>1129074143313393758</td>\n      <td>1129074143313393757</td>\n      <td>1</td>\n    </tr>\n    <tr>\n      <td>8</td>\n      <td>5475936417452447856</td>\n      <td>5475936417452447855</td>\n      <td>1</td>\n    </tr>\n    <tr>\n      <td>10</td>\n      <td>1836525061174867288</td>\n      <td>1836525061174867287</td>\n      <td>1</td>\n    </tr>\n  </tbody>\n</table>\n</div>"
     },
     "metadata": {}
    },
    {
     "output_type": "display_data",
     "data": {
      "text/plain": "Delta\n-1    223\n 0    284\n 1    493\nName: DUT, dtype: int64"
     },
     "metadata": {}
    }
   ],
   "source": [
    "# Calculating deltas\n",
    "wrong_results = results[results['sum'] != test_vector['sum']]\n",
    "print( str( wrong_results['sum'].count() ) + ' incorrect results out of ' + str(test_vector['sum'].count()) )\n",
    "result_comparison = pd.DataFrame({'DUT': results['sum'], 'Expected': test_vector['sum']})\n",
    "result_comparison['Delta'] = result_comparison['DUT'] - result_comparison['Expected']\n",
    "\n",
    "display(wrong_results)\n",
    "display(result_comparison[results['sum'] != test_vector['sum']].head())\n",
    "display(result_comparison.groupby('Delta').count()['DUT'])"
   ]
  }
 ],
 "metadata": {
  "language_info": {
   "codemirror_mode": {
    "name": "ipython",
    "version": 3
   },
   "file_extension": ".py",
   "mimetype": "text/x-python",
   "name": "python",
   "nbconvert_exporter": "python",
   "pygments_lexer": "ipython3",
   "version": "3.7.4-final"
  },
  "orig_nbformat": 2,
  "kernelspec": {
   "name": "python37464bitcd447ffdbf1f4d06aa29387af87e1b7f",
   "display_name": "Python 3.7.4 64-bit"
  }
 },
 "nbformat": 4,
 "nbformat_minor": 2
}